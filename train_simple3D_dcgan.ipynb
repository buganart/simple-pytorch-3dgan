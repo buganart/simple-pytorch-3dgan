{
  "nbformat": 4,
  "nbformat_minor": 0,
  "metadata": {
    "colab": {
      "name": "train_simple3D_dcgan.ipynb",
      "provenance": [],
      "collapsed_sections": [],
      "include_colab_link": true
    },
    "kernelspec": {
      "name": "python3",
      "display_name": "Python 3"
    },
    "accelerator": "GPU"
  },
  "cells": [
    {
      "cell_type": "markdown",
      "metadata": {
        "id": "view-in-github",
        "colab_type": "text"
      },
      "source": [
        "<a href=\"https://colab.research.google.com/github/buganart/simple-pytorch-3dgan/blob/master/train_simple3D_dcgan.ipynb\" target=\"_parent\"><img src=\"https://colab.research.google.com/assets/colab-badge.svg\" alt=\"Open In Colab\"/></a>"
      ]
    },
    {
      "cell_type": "code",
      "metadata": {
        "id": "l5hTlhspTbjX",
        "cellView": "form"
      },
      "source": [
        "# @title Setup\n",
        "# @markdown 1. Before starting please save the notebook in your drive by clicking on `File -> Save a copy in drive`\n",
        "# @markdown 2. Check GPU\n",
        "# @markdown 3. Mount google drive.\n",
        "# @markdown 4. Log in to wandb.\n",
        "\n",
        "\n",
        "!nvidia-smi -L\n",
        "import os\n",
        "\n",
        "print(f\"We have {os.cpu_count()} CPU cores.\")\n",
        "print()\n",
        "\n",
        "try:\n",
        "    from google.colab import drive, output\n",
        "\n",
        "    IN_COLAB = True\n",
        "except ImportError:\n",
        "    from IPython.display import clear_output\n",
        "\n",
        "    IN_COLAB = False\n",
        "\n",
        "from pathlib import Path\n",
        "\n",
        "if IN_COLAB:\n",
        "    drive.mount(\"/content/drive/\")\n",
        "\n",
        "    if not Path(\"/content/drive/My Drive/IRCMS_GAN_collaborative_database\").exists():\n",
        "        raise RuntimeError(\n",
        "            \"Shortcut to our shared drive folder doesn't exits.\\n\\n\"\n",
        "            \"\\t1. Go to the google drive web UI\\n\"\n",
        "            '\\t2. Right click shared folder IRCMS_GAN_collaborative_database and click \"Add shortcut to Drive\"'\n",
        "        )\n",
        "\n",
        "clear = output.clear if IN_COLAB else clear_output\n",
        "\n",
        "\n",
        "def clear_on_success(msg=\"Ok!\"):\n",
        "    if _exit_code == 0:\n",
        "        clear()\n",
        "        print(msg)\n",
        "\n",
        "\n",
        "print()\n",
        "print(\"Wandb installation and login ...\")\n",
        "%pip install -q wandb\n",
        "\n",
        "wandb_drive_netrc_path = Path(\"drive/My Drive/colab/.netrc\")\n",
        "wandb_local_netrc_path = Path(\"/root/.netrc\")\n",
        "if wandb_drive_netrc_path.exists():\n",
        "    import shutil\n",
        "\n",
        "    print(\"Wandb .netrc file found, will use that to log in.\")\n",
        "    shutil.copy(wandb_drive_netrc_path, wandb_local_netrc_path)\n",
        "else:\n",
        "    print(\n",
        "        f\"Wandb config not found at {wandb_drive_netrc_path}.\\n\"\n",
        "        f\"Using manual login.\\n\\n\"\n",
        "        f\"To use auto login in the future, finish the manual login first and then run:\\n\\n\"\n",
        "        f\"\\t!mkdir -p '{wandb_drive_netrc_path.parent}'\\n\"\n",
        "        f\"\\t!cp {wandb_local_netrc_path} '{wandb_drive_netrc_path}'\\n\\n\"\n",
        "        f\"Then that file will be used to login next time.\\n\"\n",
        "    )\n",
        "\n",
        "!wandb login"
      ],
      "execution_count": null,
      "outputs": []
    },
    {
      "cell_type": "code",
      "metadata": {
        "id": "b2nGSKlz8xJU",
        "cellView": "form"
      },
      "source": [
        "#@title Configuration\n",
        "\n",
        "# Fill in the configuration then Then, select `Runtime` and `Run all` then let it ride!\n",
        "\n",
        "#@markdown #### Training\n",
        "drive_dirs = list(Path('/content/drive').glob('My*'))\n",
        "if not drive_dirs:\n",
        "    raise RuntimeError(\"Drive not found. Is it mounted?\")\n",
        "drive = drive_dirs[0]\n",
        "print(f\"Google drive at {drive}\")    \n",
        "\n",
        "\n",
        "#@markdown Enter dataset location.  \n",
        "#@markdown - For example via the file browser on the left to locate and right click to copy the path.)\n",
        "# #@markdown - zipfile example: `/content/drive/My Drive/h/k/a.zip`\n",
        "#@markdown - file folder example: `/content/drive/My Drive/h/k`\n",
        "#@markdown - Currently, only support folder (zip not supported)\n",
        "# #@markdown - if data_location_option is not empty, data_location_option will overwrite data_location_default\n",
        "# data_location_default = \"/content/drive/My Drive/IRCMS_GAN_collaborative_database/Research/Peter/Tree_3D_models_obj_auto_generated/sessions/simplified/tree-session-2020-09-14_23-23-Friedrich_2-target-face-num-1000.zip\" #@param [\"/content/drive/My Drive/IRCMS_GAN_collaborative_database/Research/Peter/Tree_3D_models_obj_auto_generated/sessions/simplified/tree-session-2020-09-14_23-23-Friedrich_2-target-face-num-1000.zip\", \"/content/drive/My Drive/IRCMS_GAN_collaborative_database/Research/Peter/Tree_3D_models_obj_auto_generated/sessions/simplified/tree-sessions-2020-09-10-simplified-26k-target-face-num-1000.zip\", \"/content/drive/My Drive/Hand-Tool-Data-Set/turbosquid_thingiverse_dataset/dataset_ply_out_zipped.zip\", \"/content/drive/My Drive/IRCMS_GAN_collaborative_database/Research/Peter/Chairs_Princeton/chair_train.zip\", \"/content/drive/My Drive/IRCMS_GAN_collaborative_database/Research/Peter/Tree_3D_models_obj_auto_generated/sessions/simplified/tree-sessions-2020-09-10-simplified-26k-target-face-num-1000-class-label.zip\"] \n",
        "data_location = \"/content/drive/My Drive/Hand-Tool-Data-Set/Finn/bell_obj\" #@param {type:\"string\"}\n",
        "\n",
        "if not Path(data_location).exists():\n",
        "    raise RuntimeError(f\"The data_location \\'{data_location}\\' does not exist.\")\n",
        "\n",
        "# #@markdown [Optional] ID of wandb run to resume.\n",
        "# resume_run_id = \"\" #@param {type: \"string\"}\n",
        "\n",
        "#@markdown ####WANDB log\n",
        "#@markdown - how many epochs before logging images/3D objects\n",
        "log_interval =  10 #@param {type: \"integer\"}\n",
        "\n",
        "#@markdown ###train argument\n",
        "epochs = 1000 #@param {type: \"integer\"}\n",
        "#@markdown - !Warning! rotate is very slow in colab.\n",
        "rotate = False #@param {type:\"boolean\"}\n",
        "#@markdown - logs by tensorboardX\n",
        "logs = \"\" #@param {type: \"string\"}\n",
        "#@markdown - local test verbose\n",
        "local_test = False #@param {type:\"boolean\"}\n",
        "#@markdown - model name for saving\n",
        "model_name = \"dcgan\" #@param {type: \"string\"}\n",
        "#@markdown - call tester.py\n",
        "test = False #@param {type:\"boolean\"}\n",
        "\n",
        "\n",
        "config = dict(\n",
        "    data_location=data_location,\n",
        "    log_interval=log_interval,\n",
        "    epochs=epochs,\n",
        "    rotate=rotate,\n",
        "    logs=logs,\n",
        "    local_test=local_test,\n",
        "    model_name=model_name,\n",
        "    test=test,\n",
        ")\n",
        "for k,v in config.items():\n",
        "    print(f\"=> {k:30}: {v}\")"
      ],
      "execution_count": null,
      "outputs": []
    },
    {
      "cell_type": "code",
      "metadata": {
        "id": "NjxLUZlFBKyP",
        "cellView": "form"
      },
      "source": [
        "#@title Clone simple-pytorch-3dgan repo.\n",
        "if IN_COLAB:\n",
        "    !git clone https://github.com/buganart/simple-pytorch-3dgan\n",
        "    clear_on_success(\"Repo cloned!\")"
      ],
      "execution_count": null,
      "outputs": []
    },
    {
      "cell_type": "code",
      "metadata": {
        "id": "chU4MVd1BSct",
        "cellView": "form"
      },
      "source": [
        "#@title Install dependencies\n",
        "if IN_COLAB:\n",
        "    %cd \"/content/simple-pytorch-3dgan/\"\n",
        "    \n",
        "%pip install -r requirements.txt\n",
        "clear_on_success(\"Dependencies installed!\")"
      ],
      "execution_count": null,
      "outputs": []
    },
    {
      "cell_type": "code",
      "metadata": {
        "cellView": "form",
        "id": "a7rPE_NKiqJd"
      },
      "source": [
        "#@title Install Visdom\r\n",
        "! npm install -g localtunnel\r\n",
        "get_ipython().system_raw('python3 -m pip install visdom')\r\n",
        "get_ipython().system_raw('python3 -m visdom.server -port 6006 >> visdomlog.txt 2>&1 &')\r\n",
        "get_ipython().system_raw('lt --port 6006 >> url.txt 2>&1 &')\r\n",
        "import time\r\n",
        "# time.sleep(5)\r\n",
        "import visdom\r\n",
        "clear_on_success(\"visdom installed!\")"
      ],
      "execution_count": null,
      "outputs": []
    },
    {
      "cell_type": "code",
      "metadata": {
        "id": "NOQSMDxHU4UC",
        "cellView": "form"
      },
      "source": [
        "#@title Train\n",
        "\n",
        "# import os\n",
        "os.environ[\"WANDB_MODE\"] = \"dryrun\"\n",
        "\n",
        "#convert parameters to appropriate type\n",
        "if not logs:\n",
        "    logs = None\n",
        "local_test = str(local_test)\n",
        "test = str(test)\n",
        "\n",
        "if rotate:\n",
        "    !env PYTHONPATH=\".\" python main.py \\\n",
        "        --data_dir \"$data_location\" \\\n",
        "        --generate_every \"$log_interval\" \\\n",
        "        --epochs \"$epochs\" \\\n",
        "        --logs \"$logs\" \\\n",
        "        --local_test \"$local_test\" \\\n",
        "        --model_name \"$model_name\" \\\n",
        "        --test \"$test\" \\\n",
        "        --rotate\n",
        "else:\n",
        "    !env PYTHONPATH=\".\" python main.py \\\n",
        "        --data_dir \"$data_location\" \\\n",
        "        --generate_every \"$log_interval\" \\\n",
        "        --epochs \"$epochs\" \\\n",
        "        --logs \"$logs\" \\\n",
        "        --local_test \"$local_test\" \\\n",
        "        --model_name \"$model_name\" \\\n",
        "        --test \"$test\" \\"
      ],
      "execution_count": null,
      "outputs": []
    }
  ]
}